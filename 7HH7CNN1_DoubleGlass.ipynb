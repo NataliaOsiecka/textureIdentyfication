{
  "cells": [
    {
      "cell_type": "markdown",
      "metadata": {
        "id": "view-in-github",
        "colab_type": "text"
      },
      "source": [
        "<a href=\"https://colab.research.google.com/github/NataliaOsiecka/textureIdentyfication/blob/main/7HH7CNN1_DoubleGlass.ipynb\" target=\"_parent\"><img src=\"https://colab.research.google.com/assets/colab-badge.svg\" alt=\"Open In Colab\"/></a>"
      ]
    },
    {
      "cell_type": "code",
      "execution_count": null,
      "metadata": {
        "colab": {
          "base_uri": "https://localhost:8080/"
        },
        "id": "647sNsjCJ0hX",
        "outputId": "fe233e58-be6a-44cf-d223-044dfbdded1e"
      },
      "outputs": [
        {
          "name": "stdout",
          "output_type": "stream",
          "text": [
            "Requirement already satisfied: h5py in /usr/local/lib/python3.10/dist-packages (3.8.0)\n",
            "Requirement already satisfied: numpy>=1.14.5 in /usr/local/lib/python3.10/dist-packages (from h5py) (1.22.4)\n",
            "Requirement already satisfied: typing-extensions in /usr/local/lib/python3.10/dist-packages (4.7.1)\n",
            "Requirement already satisfied: wheel in /usr/local/lib/python3.10/dist-packages (0.40.0)\n"
          ]
        }
      ],
      "source": [
        "!pip install h5py\n",
        "!pip install typing-extensions\n",
        "!pip install wheel"
      ]
    },
    {
      "cell_type": "code",
      "execution_count": null,
      "metadata": {
        "colab": {
          "base_uri": "https://localhost:8080/"
        },
        "id": "kq6qJdUqIWCQ",
        "outputId": "14ccfb97-0007-430c-9c40-2f0596a62dcb"
      },
      "outputs": [
        {
          "name": "stdout",
          "output_type": "stream",
          "text": [
            "Collecting tensorflow==2.8\n",
            "  Downloading tensorflow-2.8.0-cp310-cp310-manylinux2010_x86_64.whl (497.6 MB)\n",
            "\u001b[2K     \u001b[90m━━━━━━━━━━━━━━━━━━━━━━━━━━━━━━━━━━━━━━━\u001b[0m \u001b[32m497.6/497.6 MB\u001b[0m \u001b[31m2.4 MB/s\u001b[0m eta \u001b[36m0:00:00\u001b[0m\n",
            "\u001b[?25hRequirement already satisfied: absl-py>=0.4.0 in /usr/local/lib/python3.10/dist-packages (from tensorflow==2.8) (1.4.0)\n",
            "Requirement already satisfied: astunparse>=1.6.0 in /usr/local/lib/python3.10/dist-packages (from tensorflow==2.8) (1.6.3)\n",
            "Requirement already satisfied: flatbuffers>=1.12 in /usr/local/lib/python3.10/dist-packages (from tensorflow==2.8) (23.5.26)\n",
            "Requirement already satisfied: gast>=0.2.1 in /usr/local/lib/python3.10/dist-packages (from tensorflow==2.8) (0.4.0)\n",
            "Requirement already satisfied: google-pasta>=0.1.1 in /usr/local/lib/python3.10/dist-packages (from tensorflow==2.8) (0.2.0)\n",
            "Requirement already satisfied: h5py>=2.9.0 in /usr/local/lib/python3.10/dist-packages (from tensorflow==2.8) (3.8.0)\n",
            "Collecting keras-preprocessing>=1.1.1 (from tensorflow==2.8)\n",
            "  Downloading Keras_Preprocessing-1.1.2-py2.py3-none-any.whl (42 kB)\n",
            "\u001b[2K     \u001b[90m━━━━━━━━━━━━━━━━━━━━━━━━━━━━━━━━━━━━━━━━\u001b[0m \u001b[32m42.6/42.6 kB\u001b[0m \u001b[31m4.1 MB/s\u001b[0m eta \u001b[36m0:00:00\u001b[0m\n",
            "\u001b[?25hRequirement already satisfied: libclang>=9.0.1 in /usr/local/lib/python3.10/dist-packages (from tensorflow==2.8) (16.0.0)\n",
            "Requirement already satisfied: numpy>=1.20 in /usr/local/lib/python3.10/dist-packages (from tensorflow==2.8) (1.22.4)\n",
            "Requirement already satisfied: opt-einsum>=2.3.2 in /usr/local/lib/python3.10/dist-packages (from tensorflow==2.8) (3.3.0)\n",
            "Requirement already satisfied: protobuf>=3.9.2 in /usr/local/lib/python3.10/dist-packages (from tensorflow==2.8) (3.20.3)\n",
            "Requirement already satisfied: setuptools in /usr/local/lib/python3.10/dist-packages (from tensorflow==2.8) (67.7.2)\n",
            "Requirement already satisfied: six>=1.12.0 in /usr/local/lib/python3.10/dist-packages (from tensorflow==2.8) (1.16.0)\n",
            "Requirement already satisfied: termcolor>=1.1.0 in /usr/local/lib/python3.10/dist-packages (from tensorflow==2.8) (2.3.0)\n",
            "Requirement already satisfied: typing-extensions>=3.6.6 in /usr/local/lib/python3.10/dist-packages (from tensorflow==2.8) (4.7.1)\n",
            "Requirement already satisfied: wrapt>=1.11.0 in /usr/local/lib/python3.10/dist-packages (from tensorflow==2.8) (1.14.1)\n",
            "Collecting tensorboard<2.9,>=2.8 (from tensorflow==2.8)\n",
            "  Downloading tensorboard-2.8.0-py3-none-any.whl (5.8 MB)\n",
            "\u001b[2K     \u001b[90m━━━━━━━━━━━━━━━━━━━━━━━━━━━━━━━━━━━━━━━━\u001b[0m \u001b[32m5.8/5.8 MB\u001b[0m \u001b[31m61.9 MB/s\u001b[0m eta \u001b[36m0:00:00\u001b[0m\n",
            "\u001b[?25hCollecting tf-estimator-nightly==2.8.0.dev2021122109 (from tensorflow==2.8)\n",
            "  Downloading tf_estimator_nightly-2.8.0.dev2021122109-py2.py3-none-any.whl (462 kB)\n",
            "\u001b[2K     \u001b[90m━━━━━━━━━━━━━━━━━━━━━━━━━━━━━━━━━━━━━━\u001b[0m \u001b[32m462.5/462.5 kB\u001b[0m \u001b[31m32.2 MB/s\u001b[0m eta \u001b[36m0:00:00\u001b[0m\n",
            "\u001b[?25hCollecting keras<2.9,>=2.8.0rc0 (from tensorflow==2.8)\n",
            "  Downloading keras-2.8.0-py2.py3-none-any.whl (1.4 MB)\n",
            "\u001b[2K     \u001b[90m━━━━━━━━━━━━━━━━━━━━━━━━━━━━━━━━━━━━━━━━\u001b[0m \u001b[32m1.4/1.4 MB\u001b[0m \u001b[31m54.1 MB/s\u001b[0m eta \u001b[36m0:00:00\u001b[0m\n",
            "\u001b[?25hRequirement already satisfied: tensorflow-io-gcs-filesystem>=0.23.1 in /usr/local/lib/python3.10/dist-packages (from tensorflow==2.8) (0.32.0)\n",
            "Requirement already satisfied: grpcio<2.0,>=1.24.3 in /usr/local/lib/python3.10/dist-packages (from tensorflow==2.8) (1.56.0)\n",
            "Requirement already satisfied: wheel<1.0,>=0.23.0 in /usr/local/lib/python3.10/dist-packages (from astunparse>=1.6.0->tensorflow==2.8) (0.40.0)\n",
            "Requirement already satisfied: google-auth<3,>=1.6.3 in /usr/local/lib/python3.10/dist-packages (from tensorboard<2.9,>=2.8->tensorflow==2.8) (2.17.3)\n",
            "Collecting google-auth-oauthlib<0.5,>=0.4.1 (from tensorboard<2.9,>=2.8->tensorflow==2.8)\n",
            "  Downloading google_auth_oauthlib-0.4.6-py2.py3-none-any.whl (18 kB)\n",
            "Requirement already satisfied: markdown>=2.6.8 in /usr/local/lib/python3.10/dist-packages (from tensorboard<2.9,>=2.8->tensorflow==2.8) (3.4.3)\n",
            "Requirement already satisfied: requests<3,>=2.21.0 in /usr/local/lib/python3.10/dist-packages (from tensorboard<2.9,>=2.8->tensorflow==2.8) (2.27.1)\n",
            "Collecting tensorboard-data-server<0.7.0,>=0.6.0 (from tensorboard<2.9,>=2.8->tensorflow==2.8)\n",
            "  Downloading tensorboard_data_server-0.6.1-py3-none-manylinux2010_x86_64.whl (4.9 MB)\n",
            "\u001b[2K     \u001b[90m━━━━━━━━━━━━━━━━━━━━━━━━━━━━━━━━━━━━━━━━\u001b[0m \u001b[32m4.9/4.9 MB\u001b[0m \u001b[31m64.5 MB/s\u001b[0m eta \u001b[36m0:00:00\u001b[0m\n",
            "\u001b[?25hCollecting tensorboard-plugin-wit>=1.6.0 (from tensorboard<2.9,>=2.8->tensorflow==2.8)\n",
            "  Downloading tensorboard_plugin_wit-1.8.1-py3-none-any.whl (781 kB)\n",
            "\u001b[2K     \u001b[90m━━━━━━━━━━━━━━━━━━━━━━━━━━━━━━━━━━━━━━\u001b[0m \u001b[32m781.3/781.3 kB\u001b[0m \u001b[31m39.4 MB/s\u001b[0m eta \u001b[36m0:00:00\u001b[0m\n",
            "\u001b[?25hRequirement already satisfied: werkzeug>=0.11.15 in /usr/local/lib/python3.10/dist-packages (from tensorboard<2.9,>=2.8->tensorflow==2.8) (2.3.6)\n",
            "Requirement already satisfied: cachetools<6.0,>=2.0.0 in /usr/local/lib/python3.10/dist-packages (from google-auth<3,>=1.6.3->tensorboard<2.9,>=2.8->tensorflow==2.8) (5.3.1)\n",
            "Requirement already satisfied: pyasn1-modules>=0.2.1 in /usr/local/lib/python3.10/dist-packages (from google-auth<3,>=1.6.3->tensorboard<2.9,>=2.8->tensorflow==2.8) (0.3.0)\n",
            "Requirement already satisfied: rsa<5,>=3.1.4 in /usr/local/lib/python3.10/dist-packages (from google-auth<3,>=1.6.3->tensorboard<2.9,>=2.8->tensorflow==2.8) (4.9)\n",
            "Requirement already satisfied: requests-oauthlib>=0.7.0 in /usr/local/lib/python3.10/dist-packages (from google-auth-oauthlib<0.5,>=0.4.1->tensorboard<2.9,>=2.8->tensorflow==2.8) (1.3.1)\n",
            "Requirement already satisfied: urllib3<1.27,>=1.21.1 in /usr/local/lib/python3.10/dist-packages (from requests<3,>=2.21.0->tensorboard<2.9,>=2.8->tensorflow==2.8) (1.26.16)\n",
            "Requirement already satisfied: certifi>=2017.4.17 in /usr/local/lib/python3.10/dist-packages (from requests<3,>=2.21.0->tensorboard<2.9,>=2.8->tensorflow==2.8) (2023.5.7)\n",
            "Requirement already satisfied: charset-normalizer~=2.0.0 in /usr/local/lib/python3.10/dist-packages (from requests<3,>=2.21.0->tensorboard<2.9,>=2.8->tensorflow==2.8) (2.0.12)\n",
            "Requirement already satisfied: idna<4,>=2.5 in /usr/local/lib/python3.10/dist-packages (from requests<3,>=2.21.0->tensorboard<2.9,>=2.8->tensorflow==2.8) (3.4)\n",
            "Requirement already satisfied: MarkupSafe>=2.1.1 in /usr/local/lib/python3.10/dist-packages (from werkzeug>=0.11.15->tensorboard<2.9,>=2.8->tensorflow==2.8) (2.1.3)\n",
            "Requirement already satisfied: pyasn1<0.6.0,>=0.4.6 in /usr/local/lib/python3.10/dist-packages (from pyasn1-modules>=0.2.1->google-auth<3,>=1.6.3->tensorboard<2.9,>=2.8->tensorflow==2.8) (0.5.0)\n",
            "Requirement already satisfied: oauthlib>=3.0.0 in /usr/local/lib/python3.10/dist-packages (from requests-oauthlib>=0.7.0->google-auth-oauthlib<0.5,>=0.4.1->tensorboard<2.9,>=2.8->tensorflow==2.8) (3.2.2)\n",
            "Installing collected packages: tf-estimator-nightly, tensorboard-plugin-wit, keras, tensorboard-data-server, keras-preprocessing, google-auth-oauthlib, tensorboard, tensorflow\n",
            "  Attempting uninstall: keras\n",
            "    Found existing installation: keras 2.12.0\n",
            "    Uninstalling keras-2.12.0:\n",
            "      Successfully uninstalled keras-2.12.0\n",
            "  Attempting uninstall: tensorboard-data-server\n",
            "    Found existing installation: tensorboard-data-server 0.7.1\n",
            "    Uninstalling tensorboard-data-server-0.7.1:\n",
            "      Successfully uninstalled tensorboard-data-server-0.7.1\n",
            "  Attempting uninstall: google-auth-oauthlib\n",
            "    Found existing installation: google-auth-oauthlib 1.0.0\n",
            "    Uninstalling google-auth-oauthlib-1.0.0:\n",
            "      Successfully uninstalled google-auth-oauthlib-1.0.0\n",
            "  Attempting uninstall: tensorboard\n",
            "    Found existing installation: tensorboard 2.12.3\n",
            "    Uninstalling tensorboard-2.12.3:\n",
            "      Successfully uninstalled tensorboard-2.12.3\n",
            "  Attempting uninstall: tensorflow\n",
            "    Found existing installation: tensorflow 2.12.0\n",
            "    Uninstalling tensorflow-2.12.0:\n",
            "      Successfully uninstalled tensorflow-2.12.0\n",
            "Successfully installed google-auth-oauthlib-0.4.6 keras-2.8.0 keras-preprocessing-1.1.2 tensorboard-2.8.0 tensorboard-data-server-0.6.1 tensorboard-plugin-wit-1.8.1 tensorflow-2.8.0 tf-estimator-nightly-2.8.0.dev2021122109\n"
          ]
        }
      ],
      "source": [
        "!pip install tensorflow==2.8"
      ]
    },
    {
      "cell_type": "code",
      "execution_count": null,
      "metadata": {
        "colab": {
          "base_uri": "https://localhost:8080/",
          "height": 36
        },
        "id": "I0X9qkMXs_pp",
        "outputId": "43bcbd20-8040-47d4-db03-2aa75ce7c79b"
      },
      "outputs": [
        {
          "data": {
            "application/vnd.google.colaboratory.intrinsic+json": {
              "type": "string"
            },
            "text/plain": [
              "'2.8.0'"
            ]
          },
          "execution_count": 3,
          "metadata": {},
          "output_type": "execute_result"
        }
      ],
      "source": [
        "import matplotlib.pyplot as plt\n",
        "import seaborn as sns\n",
        "import zipfile\n",
        "import numpy as np\n",
        "import cv2\n",
        "from google.colab.patches import cv2_imshow\n",
        "import tensorflow as tf\n",
        "from tensorflow.keras.callbacks import ReduceLROnPlateau\n",
        "from tensorflow.keras import regularizers\n",
        "from tensorflow.keras.callbacks import ModelCheckpoint, EarlyStopping\n",
        "from tensorflow.keras.models import Sequential\n",
        "from tensorflow.keras.layers import Conv2D, MaxPool2D, Flatten, Dense, BatchNormalization, Dropout\n",
        "from tensorflow.keras.preprocessing.image import ImageDataGenerator\n",
        "tf.__version__"
      ]
    },
    {
      "cell_type": "code",
      "execution_count": null,
      "metadata": {
        "colab": {
          "base_uri": "https://localhost:8080/"
        },
        "id": "yQMOvsd99H-V",
        "outputId": "ab26bc64-9829-481e-986c-10a2b355eef0"
      },
      "outputs": [
        {
          "name": "stdout",
          "output_type": "stream",
          "text": [
            "Mounted at /content/drive\n"
          ]
        }
      ],
      "source": [
        "from google.colab import drive\n",
        "drive.mount('/content/drive')"
      ]
    },
    {
      "cell_type": "code",
      "execution_count": null,
      "metadata": {
        "id": "Y_BgiI3JxA9q"
      },
      "outputs": [],
      "source": [
        "path = '/content/drive/MyDrive/TeksturyWybrane/DwaSzklaColor7HH7.zip'\n",
        "zip_object = zipfile.ZipFile(file=path, mode='r')\n",
        "zip_object.extractall('./')\n",
        "zip_object.close()"
      ]
    },
    {
      "cell_type": "code",
      "execution_count": null,
      "metadata": {
        "id": "7-PhxwM60uM7"
      },
      "outputs": [],
      "source": [
        "training_generator = ImageDataGenerator(rescale=1./255,\n",
        "                                        horizontal_flip=True,\n",
        "                                        vertical_flip=True)\n"
      ]
    },
    {
      "cell_type": "code",
      "execution_count": null,
      "metadata": {
        "colab": {
          "base_uri": "https://localhost:8080/"
        },
        "id": "jMErkkVv_mXw",
        "outputId": "25e01152-ec14-445f-e407-ca4aa694330e"
      },
      "outputs": [
        {
          "name": "stdout",
          "output_type": "stream",
          "text": [
            "Found 2000 images belonging to 5 classes.\n"
          ]
        }
      ],
      "source": [
        "train_dataset = training_generator.flow_from_directory('/content/DwaSzklaColor7HH7/train_set',\n",
        "                                                       target_size = (256, 256),\n",
        "                                                       batch_size = 10,\n",
        "                                                       color_mode='rgb',\n",
        "                                                       class_mode = 'categorical',\n",
        "                                                       shuffle = True)"
      ]
    },
    {
      "cell_type": "code",
      "execution_count": null,
      "metadata": {
        "colab": {
          "base_uri": "https://localhost:8080/"
        },
        "id": "C4errPxfAukM",
        "outputId": "47df6361-1272-4601-be71-b0d1907ea8cf"
      },
      "outputs": [
        {
          "data": {
            "text/plain": [
              "array([0, 0, 0, ..., 4, 4, 4], dtype=int32)"
            ]
          },
          "execution_count": 8,
          "metadata": {},
          "output_type": "execute_result"
        }
      ],
      "source": [
        "train_dataset.classes"
      ]
    },
    {
      "cell_type": "code",
      "execution_count": null,
      "metadata": {
        "colab": {
          "base_uri": "https://localhost:8080/"
        },
        "id": "jYCiD3adA5xf",
        "outputId": "6c80f7f4-1ad3-4b45-b4e3-d649df914389"
      },
      "outputs": [
        {
          "data": {
            "text/plain": [
              "{'SmA': 0, 'SmCAstar': 1, 'SmCstar': 2, 'g1SmCAstar': 3, 'g2SmCAstar': 4}"
            ]
          },
          "execution_count": 9,
          "metadata": {},
          "output_type": "execute_result"
        }
      ],
      "source": [
        "train_dataset.class_indices"
      ]
    },
    {
      "cell_type": "code",
      "execution_count": null,
      "metadata": {
        "id": "6VK7xyH-BkSq"
      },
      "outputs": [],
      "source": [
        "test_generator = ImageDataGenerator(rescale=1./255)\n",
        "val_generator = ImageDataGenerator(rescale=1./255)"
      ]
    },
    {
      "cell_type": "code",
      "execution_count": null,
      "metadata": {
        "colab": {
          "base_uri": "https://localhost:8080/"
        },
        "id": "84kKwMy6U7oh",
        "outputId": "f40b9d5a-86bc-4240-963b-6fc3e67333b1"
      },
      "outputs": [
        {
          "name": "stdout",
          "output_type": "stream",
          "text": [
            "Found 500 images belonging to 5 classes.\n"
          ]
        }
      ],
      "source": [
        "validation_dataset = val_generator.flow_from_directory('/content/DwaSzklaColor7HH7/val_set',\n",
        "                                                        target_size=(256, 256),\n",
        "                                                        batch_size=1,\n",
        "                                                        class_mode='categorical',\n",
        "                                                        color_mode='rgb',\n",
        "                                                        shuffle=True) # set as validation data"
      ]
    },
    {
      "cell_type": "code",
      "execution_count": null,
      "metadata": {
        "id": "PB2pU5bzXPTa"
      },
      "outputs": [],
      "source": [
        "L2 = 0.00001"
      ]
    },
    {
      "cell_type": "code",
      "execution_count": null,
      "metadata": {
        "colab": {
          "base_uri": "https://localhost:8080/"
        },
        "id": "SdqIBmxiBvU1",
        "outputId": "c98b92c5-9d92-4894-d065-1da1eeaa1fbd"
      },
      "outputs": [
        {
          "name": "stdout",
          "output_type": "stream",
          "text": [
            "Found 500 images belonging to 5 classes.\n"
          ]
        }
      ],
      "source": [
        "test_datatset = test_generator.flow_from_directory('/content/DwaSzklaColor7HH7/test_set',\n",
        "                                                   target_size = (256, 256),\n",
        "                                                   batch_size = 1,\n",
        "                                                   color_mode='rgb',\n",
        "                                                   class_mode = 'categorical',\n",
        "                                                   shuffle = False)"
      ]
    },
    {
      "cell_type": "code",
      "execution_count": null,
      "metadata": {
        "id": "xVLgf1bADs_C"
      },
      "outputs": [],
      "source": [
        "initializer1 = tf.keras.initializers.HeNormal()\n",
        "initializer2 = tf.keras.initializers.GlorotUniform()"
      ]
    },
    {
      "cell_type": "code",
      "execution_count": null,
      "metadata": {
        "colab": {
          "base_uri": "https://localhost:8080/"
        },
        "id": "QTr7SiKfD6UI",
        "outputId": "2433aa1d-f2b9-4d05-9588-1638ced0f242"
      },
      "outputs": [
        {
          "name": "stdout",
          "output_type": "stream",
          "text": [
            "Model: \"sequential\"\n",
            "_________________________________________________________________\n",
            " Layer (type)                Output Shape              Param #   \n",
            "=================================================================\n",
            " conv2d (Conv2D)             (None, 254, 254, 32)      896       \n",
            "                                                                 \n",
            " batch_normalization (BatchN  (None, 254, 254, 32)     128       \n",
            " ormalization)                                                   \n",
            "                                                                 \n",
            " max_pooling2d (MaxPooling2D  (None, 127, 127, 32)     0         \n",
            " )                                                               \n",
            "                                                                 \n",
            " conv2d_1 (Conv2D)           (None, 127, 127, 64)      18496     \n",
            "                                                                 \n",
            " conv2d_2 (Conv2D)           (None, 127, 127, 64)      36928     \n",
            "                                                                 \n",
            " batch_normalization_1 (Batc  (None, 127, 127, 64)     256       \n",
            " hNormalization)                                                 \n",
            "                                                                 \n",
            " max_pooling2d_1 (MaxPooling  (None, 63, 63, 64)       0         \n",
            " 2D)                                                             \n",
            "                                                                 \n",
            " conv2d_3 (Conv2D)           (None, 63, 63, 128)       73856     \n",
            "                                                                 \n",
            " conv2d_4 (Conv2D)           (None, 63, 63, 128)       147584    \n",
            "                                                                 \n",
            " batch_normalization_2 (Batc  (None, 63, 63, 128)      512       \n",
            " hNormalization)                                                 \n",
            "                                                                 \n",
            " max_pooling2d_2 (MaxPooling  (None, 31, 31, 128)      0         \n",
            " 2D)                                                             \n",
            "                                                                 \n",
            " conv2d_5 (Conv2D)           (None, 31, 31, 256)       33024     \n",
            "                                                                 \n",
            " conv2d_6 (Conv2D)           (None, 31, 31, 256)       65792     \n",
            "                                                                 \n",
            " batch_normalization_3 (Batc  (None, 31, 31, 256)      1024      \n",
            " hNormalization)                                                 \n",
            "                                                                 \n",
            " max_pooling2d_3 (MaxPooling  (None, 15, 15, 256)      0         \n",
            " 2D)                                                             \n",
            "                                                                 \n",
            " flatten (Flatten)           (None, 57600)             0         \n",
            "                                                                 \n",
            " dense (Dense)               (None, 256)               14745856  \n",
            "                                                                 \n",
            " batch_normalization_4 (Batc  (None, 256)              1024      \n",
            " hNormalization)                                                 \n",
            "                                                                 \n",
            " dense_1 (Dense)             (None, 128)               32896     \n",
            "                                                                 \n",
            " batch_normalization_5 (Batc  (None, 128)              512       \n",
            " hNormalization)                                                 \n",
            "                                                                 \n",
            " dense_2 (Dense)             (None, 64)                8256      \n",
            "                                                                 \n",
            " batch_normalization_6 (Batc  (None, 64)               256       \n",
            " hNormalization)                                                 \n",
            "                                                                 \n",
            " dense_3 (Dense)             (None, 32)                2080      \n",
            "                                                                 \n",
            " batch_normalization_7 (Batc  (None, 32)               128       \n",
            " hNormalization)                                                 \n",
            "                                                                 \n",
            " dense_4 (Dense)             (None, 5)                 165       \n",
            "                                                                 \n",
            "=================================================================\n",
            "Total params: 15,169,669\n",
            "Trainable params: 15,167,749\n",
            "Non-trainable params: 1,920\n",
            "_________________________________________________________________\n"
          ]
        }
      ],
      "source": [
        "network = Sequential()\n",
        "network.add(Conv2D(filters=32, kernel_size=(3,3), activation = 'relu', input_shape = (256,256,3), kernel_initializer=initializer1))\n",
        "network.add(BatchNormalization())\n",
        "network.add(MaxPool2D(pool_size=(2,2)))\n",
        "\n",
        "network.add(Conv2D(filters=64, kernel_size=(3,3), activation = 'relu', padding='same', kernel_initializer=initializer1))\n",
        "network.add(Conv2D(filters=64, kernel_size=(3,3), activation = 'relu', padding='same', kernel_initializer=initializer1))\n",
        "network.add(BatchNormalization())\n",
        "network.add(MaxPool2D(pool_size=(2,2)))\n",
        "\n",
        "network.add(Conv2D(filters=128, kernel_size=(3,3), activation = 'relu', padding='same', kernel_initializer=initializer1))\n",
        "network.add(Conv2D(filters=128, kernel_size=(3,3), activation = 'relu', padding='same', kernel_initializer=initializer1))\n",
        "network.add(BatchNormalization())\n",
        "network.add(MaxPool2D(pool_size=(2,2)))\n",
        "\n",
        "network.add(Conv2D(filters=256, kernel_size=(1,1), activation = 'relu', padding='same', kernel_initializer=initializer1))\n",
        "network.add(Conv2D(filters=256, kernel_size=(1,1), activation = 'relu', padding='same', kernel_initializer=initializer1))\n",
        "network.add(BatchNormalization())\n",
        "network.add(MaxPool2D(pool_size=(2,2)))\n",
        "\n",
        "network.add(Flatten())\n",
        "\n",
        "#network.add(Dropout(0.2))\n",
        "network.add(Dense(units = 256, activation = 'relu', kernel_initializer=initializer1))\n",
        "network.add(BatchNormalization())\n",
        "network.add(Dense(units = 128, activation = 'relu', kernel_initializer=initializer1))\n",
        "network.add(BatchNormalization())\n",
        "network.add(Dense(units = 64, activation = 'relu', kernel_initializer=initializer1))\n",
        "network.add(BatchNormalization())\n",
        "network.add(Dense(units = 32, activation = 'relu', kernel_initializer=initializer1, kernel_regularizer=tf.keras.regularizers.L1L2()))\n",
        "network.add(BatchNormalization())\n",
        "network.add(Dense(units = 5, activation = 'softmax', kernel_initializer=initializer2))\n",
        "network.summary()"
      ]
    },
    {
      "cell_type": "code",
      "execution_count": null,
      "metadata": {
        "id": "6viOH_kUE4Bq"
      },
      "outputs": [],
      "source": [
        "from tensorflow.keras.optimizers import Adam\n",
        "#opt = Adam(lr=0.005)\n",
        "opt = Adam()\n",
        "network.compile(optimizer='Adam', loss='categorical_crossentropy', metrics = ['accuracy'])\n"
      ]
    },
    {
      "cell_type": "code",
      "execution_count": null,
      "metadata": {
        "id": "5IXmjfYmbuYh"
      },
      "outputs": [],
      "source": [
        "es = EarlyStopping(monitor = 'val_accuracy', min_delta = 0.001, patience = 20, verbose =1)\n",
        "model_cp = ModelCheckpoint(filepath = 'best_model1.h5', monitor = 'val_accuracy', save_best_only = True, verbose = 1)\n",
        "learning_rate_reduction = ReduceLROnPlateau(monitor='val_accuracy', patience = 5, verbose=1, factor=0.5, min_lr=0.00001)"
      ]
    },
    {
      "cell_type": "code",
      "execution_count": null,
      "metadata": {
        "colab": {
          "background_save": true,
          "base_uri": "https://localhost:8080/"
        },
        "id": "Uk8BSV5gGazz",
        "outputId": "b63564f3-b67f-4389-cd2f-48c9d2a9b099"
      },
      "outputs": [
        {
          "name": "stderr",
          "output_type": "stream",
          "text": [
            "<ipython-input-18-cb388435d971>:1: UserWarning: `Model.fit_generator` is deprecated and will be removed in a future version. Please use `Model.fit`, which supports generators.\n",
            "  history = network.fit_generator(train_dataset,\n"
          ]
        },
        {
          "name": "stdout",
          "output_type": "stream",
          "text": [
            "Epoch 1/100\n",
            "50/50 [==============================] - ETA: 0s - loss: 1.1244 - accuracy: 0.5480\n",
            "Epoch 1: val_accuracy improved from -inf to 0.20000, saving model to best_model1.h5\n",
            "50/50 [==============================] - 254s 5s/step - loss: 1.1244 - accuracy: 0.5480 - val_loss: 1.5718 - val_accuracy: 0.2000 - lr: 0.0010\n",
            "Epoch 2/100\n",
            "50/50 [==============================] - ETA: 0s - loss: 0.7277 - accuracy: 0.7180\n",
            "Epoch 2: val_accuracy did not improve from 0.20000\n",
            "50/50 [==============================] - 247s 5s/step - loss: 0.7277 - accuracy: 0.7180 - val_loss: 3.2670 - val_accuracy: 0.1400 - lr: 0.0010\n",
            "Epoch 3/100\n",
            "50/50 [==============================] - ETA: 0s - loss: 0.4820 - accuracy: 0.8080\n",
            "Epoch 3: val_accuracy improved from 0.20000 to 0.22000, saving model to best_model1.h5\n",
            "50/50 [==============================] - 246s 5s/step - loss: 0.4820 - accuracy: 0.8080 - val_loss: 3.2595 - val_accuracy: 0.2200 - lr: 0.0010\n",
            "Epoch 4/100\n",
            "50/50 [==============================] - ETA: 0s - loss: 0.4845 - accuracy: 0.7880\n",
            "Epoch 4: val_accuracy improved from 0.22000 to 0.30000, saving model to best_model1.h5\n",
            "50/50 [==============================] - 242s 5s/step - loss: 0.4845 - accuracy: 0.7880 - val_loss: 2.7603 - val_accuracy: 0.3000 - lr: 0.0010\n",
            "Epoch 5/100\n",
            "50/50 [==============================] - ETA: 0s - loss: 0.4462 - accuracy: 0.7940\n",
            "Epoch 5: val_accuracy did not improve from 0.30000\n",
            "50/50 [==============================] - 243s 5s/step - loss: 0.4462 - accuracy: 0.7940 - val_loss: 3.3978 - val_accuracy: 0.2600 - lr: 0.0010\n",
            "Epoch 6/100\n",
            "50/50 [==============================] - ETA: 0s - loss: 0.3988 - accuracy: 0.8200\n",
            "Epoch 6: val_accuracy improved from 0.30000 to 0.42000, saving model to best_model1.h5\n",
            "50/50 [==============================] - 258s 5s/step - loss: 0.3988 - accuracy: 0.8200 - val_loss: 1.7299 - val_accuracy: 0.4200 - lr: 0.0010\n",
            "Epoch 7/100\n",
            "50/50 [==============================] - ETA: 0s - loss: 0.3842 - accuracy: 0.8480\n",
            "Epoch 7: val_accuracy did not improve from 0.42000\n",
            "50/50 [==============================] - 245s 5s/step - loss: 0.3842 - accuracy: 0.8480 - val_loss: 3.7184 - val_accuracy: 0.1000 - lr: 0.0010\n",
            "Epoch 8/100\n",
            "50/50 [==============================] - ETA: 0s - loss: 0.3663 - accuracy: 0.8200\n",
            "Epoch 8: val_accuracy did not improve from 0.42000\n",
            "50/50 [==============================] - 248s 5s/step - loss: 0.3663 - accuracy: 0.8200 - val_loss: 3.9679 - val_accuracy: 0.2200 - lr: 0.0010\n",
            "Epoch 9/100\n",
            "50/50 [==============================] - ETA: 0s - loss: 0.4319 - accuracy: 0.8440\n",
            "Epoch 9: val_accuracy improved from 0.42000 to 0.62000, saving model to best_model1.h5\n",
            "50/50 [==============================] - 252s 5s/step - loss: 0.4319 - accuracy: 0.8440 - val_loss: 0.7936 - val_accuracy: 0.6200 - lr: 0.0010\n",
            "Epoch 10/100\n",
            "50/50 [==============================] - ETA: 0s - loss: 0.4046 - accuracy: 0.8060\n",
            "Epoch 10: val_accuracy improved from 0.62000 to 0.66000, saving model to best_model1.h5\n",
            "50/50 [==============================] - 250s 5s/step - loss: 0.4046 - accuracy: 0.8060 - val_loss: 0.7083 - val_accuracy: 0.6600 - lr: 0.0010\n",
            "Epoch 11/100\n",
            "50/50 [==============================] - ETA: 0s - loss: 0.3721 - accuracy: 0.8400\n",
            "Epoch 11: val_accuracy improved from 0.66000 to 0.70000, saving model to best_model1.h5\n",
            "50/50 [==============================] - 244s 5s/step - loss: 0.3721 - accuracy: 0.8400 - val_loss: 0.6351 - val_accuracy: 0.7000 - lr: 0.0010\n",
            "Epoch 12/100\n",
            "50/50 [==============================] - ETA: 0s - loss: 0.3918 - accuracy: 0.8380\n",
            "Epoch 12: val_accuracy did not improve from 0.70000\n",
            "50/50 [==============================] - 257s 5s/step - loss: 0.3918 - accuracy: 0.8380 - val_loss: 0.6796 - val_accuracy: 0.7000 - lr: 0.0010\n",
            "Epoch 13/100\n",
            "50/50 [==============================] - ETA: 0s - loss: 0.3857 - accuracy: 0.8360\n",
            "Epoch 13: val_accuracy improved from 0.70000 to 0.80000, saving model to best_model1.h5\n",
            "50/50 [==============================] - 264s 5s/step - loss: 0.3857 - accuracy: 0.8360 - val_loss: 0.3877 - val_accuracy: 0.8000 - lr: 0.0010\n",
            "Epoch 14/100\n",
            "50/50 [==============================] - ETA: 0s - loss: 0.3673 - accuracy: 0.8400\n",
            "Epoch 14: val_accuracy did not improve from 0.80000\n",
            "50/50 [==============================] - 252s 5s/step - loss: 0.3673 - accuracy: 0.8400 - val_loss: 2.0099 - val_accuracy: 0.5400 - lr: 0.0010\n",
            "Epoch 15/100\n",
            "50/50 [==============================] - ETA: 0s - loss: 0.6384 - accuracy: 0.7480\n",
            "Epoch 15: val_accuracy did not improve from 0.80000\n",
            "50/50 [==============================] - 253s 5s/step - loss: 0.6384 - accuracy: 0.7480 - val_loss: 11.0995 - val_accuracy: 0.2000 - lr: 0.0010\n",
            "Epoch 16/100\n",
            "50/50 [==============================] - ETA: 0s - loss: 0.4882 - accuracy: 0.7700\n",
            "Epoch 16: val_accuracy did not improve from 0.80000\n",
            "50/50 [==============================] - 243s 5s/step - loss: 0.4882 - accuracy: 0.7700 - val_loss: 2.0133 - val_accuracy: 0.3800 - lr: 0.0010\n",
            "Epoch 17/100\n",
            "50/50 [==============================] - ETA: 0s - loss: 0.4003 - accuracy: 0.8200\n",
            "Epoch 17: val_accuracy did not improve from 0.80000\n",
            "50/50 [==============================] - 241s 5s/step - loss: 0.4003 - accuracy: 0.8200 - val_loss: 0.9325 - val_accuracy: 0.5600 - lr: 0.0010\n",
            "Epoch 18/100\n",
            "50/50 [==============================] - ETA: 0s - loss: 0.3686 - accuracy: 0.8380\n",
            "Epoch 18: val_accuracy improved from 0.80000 to 0.88000, saving model to best_model1.h5\n",
            "50/50 [==============================] - 238s 5s/step - loss: 0.3686 - accuracy: 0.8380 - val_loss: 0.3168 - val_accuracy: 0.8800 - lr: 0.0010\n",
            "Epoch 19/100\n",
            "50/50 [==============================] - ETA: 0s - loss: 0.4549 - accuracy: 0.8020\n",
            "Epoch 19: val_accuracy did not improve from 0.88000\n",
            "50/50 [==============================] - 240s 5s/step - loss: 0.4549 - accuracy: 0.8020 - val_loss: 0.2874 - val_accuracy: 0.8600 - lr: 0.0010\n",
            "Epoch 20/100\n",
            "50/50 [==============================] - ETA: 0s - loss: 0.3763 - accuracy: 0.8480\n",
            "Epoch 20: val_accuracy did not improve from 0.88000\n",
            "50/50 [==============================] - 241s 5s/step - loss: 0.3763 - accuracy: 0.8480 - val_loss: 0.3678 - val_accuracy: 0.8200 - lr: 0.0010\n",
            "Epoch 21/100\n",
            "50/50 [==============================] - ETA: 0s - loss: 0.3140 - accuracy: 0.8520\n",
            "Epoch 21: val_accuracy did not improve from 0.88000\n",
            "50/50 [==============================] - 248s 5s/step - loss: 0.3140 - accuracy: 0.8520 - val_loss: 0.2177 - val_accuracy: 0.8800 - lr: 0.0010\n",
            "Epoch 22/100\n",
            "50/50 [==============================] - ETA: 0s - loss: 0.3694 - accuracy: 0.8280\n",
            "Epoch 22: val_accuracy did not improve from 0.88000\n",
            "50/50 [==============================] - 251s 5s/step - loss: 0.3694 - accuracy: 0.8280 - val_loss: 1.5391 - val_accuracy: 0.6000 - lr: 0.0010\n",
            "Epoch 23/100\n",
            "50/50 [==============================] - ETA: 0s - loss: 0.3956 - accuracy: 0.8140\n",
            "Epoch 23: val_accuracy did not improve from 0.88000\n",
            "\n",
            "Epoch 23: ReduceLROnPlateau reducing learning rate to 0.0005000000237487257.\n",
            "50/50 [==============================] - 253s 5s/step - loss: 0.3956 - accuracy: 0.8140 - val_loss: 0.2867 - val_accuracy: 0.8800 - lr: 0.0010\n",
            "Epoch 24/100\n",
            "50/50 [==============================] - ETA: 0s - loss: 0.3035 - accuracy: 0.8440\n",
            "Epoch 24: val_accuracy did not improve from 0.88000\n",
            "50/50 [==============================] - 248s 5s/step - loss: 0.3035 - accuracy: 0.8440 - val_loss: 0.2970 - val_accuracy: 0.8200 - lr: 5.0000e-04\n",
            "Epoch 25/100\n",
            "50/50 [==============================] - ETA: 0s - loss: 0.3695 - accuracy: 0.8640\n",
            "Epoch 25: val_accuracy did not improve from 0.88000\n",
            "50/50 [==============================] - 247s 5s/step - loss: 0.3695 - accuracy: 0.8640 - val_loss: 0.3068 - val_accuracy: 0.8000 - lr: 5.0000e-04\n",
            "Epoch 26/100\n",
            "50/50 [==============================] - ETA: 0s - loss: 0.3037 - accuracy: 0.8940\n",
            "Epoch 26: val_accuracy improved from 0.88000 to 0.90000, saving model to best_model1.h5\n",
            "50/50 [==============================] - 249s 5s/step - loss: 0.3037 - accuracy: 0.8940 - val_loss: 0.2427 - val_accuracy: 0.9000 - lr: 5.0000e-04\n",
            "Epoch 27/100\n",
            "50/50 [==============================] - ETA: 0s - loss: 0.3146 - accuracy: 0.8640\n",
            "Epoch 27: val_accuracy improved from 0.90000 to 0.92000, saving model to best_model1.h5\n",
            "50/50 [==============================] - 241s 5s/step - loss: 0.3146 - accuracy: 0.8640 - val_loss: 0.2529 - val_accuracy: 0.9200 - lr: 5.0000e-04\n",
            "Epoch 28/100\n",
            "50/50 [==============================] - ETA: 0s - loss: 0.2353 - accuracy: 0.8900\n",
            "Epoch 28: val_accuracy did not improve from 0.92000\n",
            "50/50 [==============================] - 252s 5s/step - loss: 0.2353 - accuracy: 0.8900 - val_loss: 0.3415 - val_accuracy: 0.7600 - lr: 5.0000e-04\n",
            "Epoch 29/100\n",
            "50/50 [==============================] - ETA: 0s - loss: 0.3363 - accuracy: 0.8540\n",
            "Epoch 29: val_accuracy did not improve from 0.92000\n",
            "50/50 [==============================] - 248s 5s/step - loss: 0.3363 - accuracy: 0.8540 - val_loss: 0.2858 - val_accuracy: 0.8200 - lr: 5.0000e-04\n",
            "Epoch 30/100\n",
            "50/50 [==============================] - ETA: 0s - loss: 0.2527 - accuracy: 0.8820\n",
            "Epoch 30: val_accuracy did not improve from 0.92000\n",
            "50/50 [==============================] - 260s 5s/step - loss: 0.2527 - accuracy: 0.8820 - val_loss: 0.2500 - val_accuracy: 0.9200 - lr: 5.0000e-04\n",
            "Epoch 31/100\n",
            "50/50 [==============================] - ETA: 0s - loss: 0.2841 - accuracy: 0.8620\n",
            "Epoch 31: val_accuracy did not improve from 0.92000\n",
            "50/50 [==============================] - 249s 5s/step - loss: 0.2841 - accuracy: 0.8620 - val_loss: 0.2391 - val_accuracy: 0.9000 - lr: 5.0000e-04\n",
            "Epoch 32/100\n",
            "50/50 [==============================] - ETA: 0s - loss: 0.2816 - accuracy: 0.8740\n",
            "Epoch 32: val_accuracy did not improve from 0.92000\n",
            "\n",
            "Epoch 32: ReduceLROnPlateau reducing learning rate to 0.0002500000118743628.\n",
            "50/50 [==============================] - 252s 5s/step - loss: 0.2816 - accuracy: 0.8740 - val_loss: 0.3037 - val_accuracy: 0.7600 - lr: 5.0000e-04\n",
            "Epoch 33/100\n",
            "50/50 [==============================] - ETA: 0s - loss: 0.2975 - accuracy: 0.8800\n",
            "Epoch 33: val_accuracy did not improve from 0.92000\n",
            "50/50 [==============================] - 250s 5s/step - loss: 0.2975 - accuracy: 0.8800 - val_loss: 0.2334 - val_accuracy: 0.9200 - lr: 2.5000e-04\n",
            "Epoch 34/100\n",
            "50/50 [==============================] - ETA: 0s - loss: 0.2281 - accuracy: 0.8900\n",
            "Epoch 34: val_accuracy did not improve from 0.92000\n",
            "50/50 [==============================] - 249s 5s/step - loss: 0.2281 - accuracy: 0.8900 - val_loss: 0.2229 - val_accuracy: 0.9000 - lr: 2.5000e-04\n",
            "Epoch 35/100\n",
            "50/50 [==============================] - ETA: 0s - loss: 0.2429 - accuracy: 0.8980\n",
            "Epoch 35: val_accuracy did not improve from 0.92000\n",
            "50/50 [==============================] - 242s 5s/step - loss: 0.2429 - accuracy: 0.8980 - val_loss: 0.2391 - val_accuracy: 0.9000 - lr: 2.5000e-04\n",
            "Epoch 36/100\n",
            "50/50 [==============================] - ETA: 0s - loss: 0.2730 - accuracy: 0.8760\n",
            "Epoch 36: val_accuracy did not improve from 0.92000\n",
            "50/50 [==============================] - 248s 5s/step - loss: 0.2730 - accuracy: 0.8760 - val_loss: 0.3022 - val_accuracy: 0.8800 - lr: 2.5000e-04\n",
            "Epoch 37/100\n",
            "50/50 [==============================] - ETA: 0s - loss: 0.2772 - accuracy: 0.8740\n",
            "Epoch 37: val_accuracy improved from 0.92000 to 0.94000, saving model to best_model1.h5\n",
            "50/50 [==============================] - 245s 5s/step - loss: 0.2772 - accuracy: 0.8740 - val_loss: 0.1654 - val_accuracy: 0.9400 - lr: 2.5000e-04\n",
            "Epoch 38/100\n",
            "50/50 [==============================] - ETA: 0s - loss: 0.2053 - accuracy: 0.9240\n",
            "Epoch 38: val_accuracy did not improve from 0.94000\n",
            "50/50 [==============================] - 242s 5s/step - loss: 0.2053 - accuracy: 0.9240 - val_loss: 0.1864 - val_accuracy: 0.9200 - lr: 2.5000e-04\n",
            "Epoch 39/100\n",
            "50/50 [==============================] - ETA: 0s - loss: 0.2330 - accuracy: 0.9020\n",
            "Epoch 39: val_accuracy did not improve from 0.94000\n",
            "50/50 [==============================] - 245s 5s/step - loss: 0.2330 - accuracy: 0.9020 - val_loss: 0.3046 - val_accuracy: 0.8600 - lr: 2.5000e-04\n",
            "Epoch 40/100\n",
            "50/50 [==============================] - ETA: 0s - loss: 0.2198 - accuracy: 0.8920\n",
            "Epoch 40: val_accuracy did not improve from 0.94000\n",
            "50/50 [==============================] - 242s 5s/step - loss: 0.2198 - accuracy: 0.8920 - val_loss: 0.2158 - val_accuracy: 0.9000 - lr: 2.5000e-04\n",
            "Epoch 41/100\n",
            "50/50 [==============================] - ETA: 0s - loss: 0.2816 - accuracy: 0.8740\n",
            "Epoch 41: val_accuracy did not improve from 0.94000\n",
            "50/50 [==============================] - 251s 5s/step - loss: 0.2816 - accuracy: 0.8740 - val_loss: 0.2400 - val_accuracy: 0.8800 - lr: 2.5000e-04\n",
            "Epoch 42/100\n",
            "50/50 [==============================] - ETA: 0s - loss: 0.2229 - accuracy: 0.9040\n",
            "Epoch 42: val_accuracy did not improve from 0.94000\n",
            "\n",
            "Epoch 42: ReduceLROnPlateau reducing learning rate to 0.0001250000059371814.\n",
            "50/50 [==============================] - 245s 5s/step - loss: 0.2229 - accuracy: 0.9040 - val_loss: 0.2800 - val_accuracy: 0.8200 - lr: 2.5000e-04\n",
            "Epoch 43/100\n",
            "50/50 [==============================] - ETA: 0s - loss: 0.2237 - accuracy: 0.9140\n",
            "Epoch 43: val_accuracy did not improve from 0.94000\n",
            "50/50 [==============================] - 240s 5s/step - loss: 0.2237 - accuracy: 0.9140 - val_loss: 0.1710 - val_accuracy: 0.9400 - lr: 1.2500e-04\n",
            "Epoch 44/100\n",
            "50/50 [==============================] - ETA: 0s - loss: 0.2315 - accuracy: 0.8960\n",
            "Epoch 44: val_accuracy did not improve from 0.94000\n",
            "50/50 [==============================] - 238s 5s/step - loss: 0.2315 - accuracy: 0.8960 - val_loss: 0.2294 - val_accuracy: 0.9000 - lr: 1.2500e-04\n",
            "Epoch 45/100\n",
            "50/50 [==============================] - ETA: 0s - loss: 0.3297 - accuracy: 0.8540\n",
            "Epoch 45: val_accuracy did not improve from 0.94000\n",
            "50/50 [==============================] - 247s 5s/step - loss: 0.3297 - accuracy: 0.8540 - val_loss: 0.3332 - val_accuracy: 0.8200 - lr: 1.2500e-04\n",
            "Epoch 46/100\n",
            "50/50 [==============================] - ETA: 0s - loss: 0.2527 - accuracy: 0.9000\n",
            "Epoch 46: val_accuracy did not improve from 0.94000\n",
            "50/50 [==============================] - 240s 5s/step - loss: 0.2527 - accuracy: 0.9000 - val_loss: 0.3817 - val_accuracy: 0.8400 - lr: 1.2500e-04\n",
            "Epoch 47/100\n",
            "50/50 [==============================] - ETA: 0s - loss: 0.2888 - accuracy: 0.8680\n",
            "Epoch 47: val_accuracy did not improve from 0.94000\n",
            "\n",
            "Epoch 47: ReduceLROnPlateau reducing learning rate to 6.25000029685907e-05.\n",
            "50/50 [==============================] - 238s 5s/step - loss: 0.2888 - accuracy: 0.8680 - val_loss: 0.2117 - val_accuracy: 0.8600 - lr: 1.2500e-04\n",
            "Epoch 48/100\n",
            "50/50 [==============================] - ETA: 0s - loss: 0.2133 - accuracy: 0.9040\n",
            "Epoch 48: val_accuracy did not improve from 0.94000\n",
            "50/50 [==============================] - 245s 5s/step - loss: 0.2133 - accuracy: 0.9040 - val_loss: 0.1621 - val_accuracy: 0.9400 - lr: 6.2500e-05\n",
            "Epoch 49/100\n",
            "50/50 [==============================] - ETA: 0s - loss: 0.2574 - accuracy: 0.8980\n",
            "Epoch 49: val_accuracy did not improve from 0.94000\n",
            "50/50 [==============================] - 242s 5s/step - loss: 0.2574 - accuracy: 0.8980 - val_loss: 0.3457 - val_accuracy: 0.7600 - lr: 6.2500e-05\n",
            "Epoch 50/100\n",
            "50/50 [==============================] - ETA: 0s - loss: 0.2543 - accuracy: 0.8700\n",
            "Epoch 50: val_accuracy did not improve from 0.94000\n",
            "50/50 [==============================] - 241s 5s/step - loss: 0.2543 - accuracy: 0.8700 - val_loss: 0.3156 - val_accuracy: 0.8800 - lr: 6.2500e-05\n",
            "Epoch 51/100\n",
            "50/50 [==============================] - ETA: 0s - loss: 0.2246 - accuracy: 0.9140\n",
            "Epoch 51: val_accuracy did not improve from 0.94000\n",
            "50/50 [==============================] - 241s 5s/step - loss: 0.2246 - accuracy: 0.9140 - val_loss: 0.3311 - val_accuracy: 0.8400 - lr: 6.2500e-05\n",
            "Epoch 52/100\n",
            "50/50 [==============================] - ETA: 0s - loss: 0.2279 - accuracy: 0.8880\n",
            "Epoch 52: val_accuracy did not improve from 0.94000\n",
            "\n",
            "Epoch 52: ReduceLROnPlateau reducing learning rate to 3.125000148429535e-05.\n",
            "50/50 [==============================] - 239s 5s/step - loss: 0.2279 - accuracy: 0.8880 - val_loss: 0.2391 - val_accuracy: 0.8800 - lr: 6.2500e-05\n",
            "Epoch 53/100\n",
            "50/50 [==============================] - ETA: 0s - loss: 0.2280 - accuracy: 0.9040\n",
            "Epoch 53: val_accuracy did not improve from 0.94000\n",
            "50/50 [==============================] - 239s 5s/step - loss: 0.2280 - accuracy: 0.9040 - val_loss: 0.2184 - val_accuracy: 0.9400 - lr: 3.1250e-05\n",
            "Epoch 54/100\n",
            "50/50 [==============================] - ETA: 0s - loss: 0.2156 - accuracy: 0.9160\n",
            "Epoch 54: val_accuracy did not improve from 0.94000\n",
            "50/50 [==============================] - 243s 5s/step - loss: 0.2156 - accuracy: 0.9160 - val_loss: 0.1475 - val_accuracy: 0.9200 - lr: 3.1250e-05\n",
            "Epoch 55/100\n",
            "50/50 [==============================] - ETA: 0s - loss: 0.2434 - accuracy: 0.8940\n",
            "Epoch 55: val_accuracy did not improve from 0.94000\n",
            "50/50 [==============================] - 242s 5s/step - loss: 0.2434 - accuracy: 0.8940 - val_loss: 0.3087 - val_accuracy: 0.8800 - lr: 3.1250e-05\n",
            "Epoch 56/100\n",
            "50/50 [==============================] - ETA: 0s - loss: 0.1963 - accuracy: 0.9180\n",
            "Epoch 56: val_accuracy did not improve from 0.94000\n",
            "50/50 [==============================] - 236s 5s/step - loss: 0.1963 - accuracy: 0.9180 - val_loss: 0.2002 - val_accuracy: 0.8800 - lr: 3.1250e-05\n",
            "Epoch 57/100\n",
            "50/50 [==============================] - ETA: 0s - loss: 0.2173 - accuracy: 0.8960\n",
            "Epoch 57: val_accuracy did not improve from 0.94000\n",
            "\n",
            "Epoch 57: ReduceLROnPlateau reducing learning rate to 1.5625000742147677e-05.\n",
            "50/50 [==============================] - 235s 5s/step - loss: 0.2173 - accuracy: 0.8960 - val_loss: 0.2556 - val_accuracy: 0.8600 - lr: 3.1250e-05\n",
            "Epoch 57: early stopping\n"
          ]
        }
      ],
      "source": [
        "history = network.fit_generator(train_dataset,\n",
        "                                steps_per_epoch = 50,\n",
        "                                validation_data = validation_dataset,\n",
        "                                validation_steps = 50,\n",
        "                                epochs=100,\n",
        "                                callbacks=[es, model_cp, learning_rate_reduction])"
      ]
    },
    {
      "cell_type": "markdown",
      "metadata": {
        "id": "0yfuhbovltQA"
      },
      "source": []
    },
    {
      "cell_type": "code",
      "execution_count": null,
      "metadata": {
        "id": "4xXIb__YN8jO"
      },
      "outputs": [],
      "source": [
        "predictions=network.predict(test_datatset)\n",
        "predictions = np.argmax(predictions, axis=1)"
      ]
    },
    {
      "cell_type": "code",
      "execution_count": null,
      "metadata": {
        "colab": {
          "base_uri": "https://localhost:8080/"
        },
        "id": "MfitKd4WOO0c",
        "outputId": "f69113c5-07d7-421b-a1c8-7fdf191a5c2c"
      },
      "outputs": [
        {
          "data": {
            "text/plain": [
              "0.936"
            ]
          },
          "execution_count": 18,
          "metadata": {},
          "output_type": "execute_result"
        }
      ],
      "source": [
        "from sklearn.metrics import accuracy_score\n",
        "accuracy_score(test_datatset.classes, predictions)"
      ]
    },
    {
      "cell_type": "code",
      "execution_count": null,
      "metadata": {
        "colab": {
          "base_uri": "https://localhost:8080/",
          "height": 269
        },
        "id": "CwufQs6AOjVu",
        "outputId": "a8dbe8df-3f91-4473-90bf-4b7f9983fed2"
      },
      "outputs": [
        {
          "data": {
            "image/png": "[encoded data removed]",
            "text/plain": [
              "<Figure size 432x288 with 2 Axes>"
            ]
          },
          "metadata": {},
          "output_type": "display_data"
        }
      ],
      "source": [
        "from sklearn.metrics import confusion_matrix\n",
        "cm = confusion_matrix(test_datatset.classes, predictions)\n",
        "sns.heatmap(cm, annot=True);"
      ]
    },
    {
      "cell_type": "code",
      "execution_count": null,
      "metadata": {
        "colab": {
          "base_uri": "https://localhost:8080/"
        },
        "id": "lfg484OCPGqq",
        "outputId": "7cdb47e9-d00a-4d20-8e8c-274b8d3d8ec1"
      },
      "outputs": [
        {
          "name": "stdout",
          "output_type": "stream",
          "text": [
            "              precision    recall  f1-score   support\n",
            "\n",
            "           0       1.00      1.00      1.00       100\n",
            "           1       1.00      1.00      1.00       100\n",
            "           2       1.00      1.00      1.00       100\n",
            "           3       0.79      0.92      0.85       100\n",
            "           4       0.90      0.76      0.83       100\n",
            "\n",
            "    accuracy                           0.94       500\n",
            "   macro avg       0.94      0.94      0.94       500\n",
            "weighted avg       0.94      0.94      0.94       500\n",
            "\n"
          ]
        }
      ],
      "source": [
        "from sklearn.metrics import classification_report\n",
        "print(classification_report(test_datatset.classes, predictions))"
      ]
    },
    {
      "cell_type": "code",
      "execution_count": null,
      "metadata": {
        "colab": {
          "base_uri": "https://localhost:8080/",
          "height": 295
        },
        "id": "AwBdQqe9Porm",
        "outputId": "a9decbc1-735b-4392-8dde-3f3e13efbcc2"
      },
      "outputs": [
        {
          "data": {
            "image/png": "[encoded data removed]",
            "text/plain": [
              "<Figure size 432x288 with 1 Axes>"
            ]
          },
          "metadata": {},
          "output_type": "display_data"
        }
      ],
      "source": [
        "plt.plot(history.history['accuracy'])\n",
        "plt.plot(history.history['val_accuracy'])\n",
        "plt.title('model accuracy')\n",
        "plt.ylabel('accuracy')\n",
        "plt.xlabel('epoch')\n",
        "plt.legend(['train', 'val'], loc='upper left')\n",
        "plt.show()"
      ]
    },
    {
      "cell_type": "code",
      "execution_count": null,
      "metadata": {
        "colab": {
          "base_uri": "https://localhost:8080/",
          "height": 295
        },
        "id": "vVr7AUw8SNre",
        "outputId": "ed306dae-1696-4b26-d36a-1ead920c3057"
      },
      "outputs": [
        {
          "data": {
            "image/png": "[encoded data removed]",
            "text/plain": [
              "<Figure size 432x288 with 1 Axes>"
            ]
          },
          "metadata": {},
          "output_type": "display_data"
        }
      ],
      "source": [
        "plt.plot(history.history['loss'])\n",
        "plt.plot(history.history['val_loss'])\n",
        "plt.title('model loss')\n",
        "plt.ylabel('loss')\n",
        "plt.xlabel('epoch')\n",
        "plt.legend(['train', 'val'], loc='upper left')\n",
        "plt.show()"
      ]
    },
    {
      "cell_type": "code",
      "execution_count": null,
      "metadata": {
        "id": "pnmlR6M8gih2"
      },
      "outputs": [],
      "source": [
        "from tensorflow.keras.models import load_model\n",
        "model = load_model('/content/best_model1.h5')"
      ]
    },
    {
      "cell_type": "code",
      "execution_count": null,
      "metadata": {
        "colab": {
          "base_uri": "https://localhost:8080/"
        },
        "id": "P5SUDIaUg8-G",
        "outputId": "6f0e8389-1d6f-4db7-8c7a-011c88610649"
      },
      "outputs": [
        {
          "name": "stdout",
          "output_type": "stream",
          "text": [
            "500/500 [==============================] - 66s 131ms/step - loss: 0.1778 - accuracy: 0.9260\n"
          ]
        },
        {
          "data": {
            "text/plain": [
              "[0.17783160507678986, 0.9259999990463257]"
            ]
          },
          "execution_count": 24,
          "metadata": {},
          "output_type": "execute_result"
        }
      ],
      "source": [
        "model.evaluate(test_datatset)"
      ]
    },
    {
      "cell_type": "code",
      "execution_count": null,
      "metadata": {
        "colab": {
          "base_uri": "https://localhost:8080/",
          "height": 269
        },
        "id": "Zqq4ec2JhKgt",
        "outputId": "626d0164-8162-4bcf-a49d-4abef40a43d3"
      },
      "outputs": [
        {
          "data": {
            "image/png": "[encoded data removed]",
            "text/plain": [
              "<Figure size 432x288 with 2 Axes>"
            ]
          },
          "metadata": {},
          "output_type": "display_data"
        }
      ],
      "source": [
        "pred = model.predict(test_datatset)\n",
        "pred = np.argmax(pred, axis=1)\n",
        "cm = confusion_matrix(test_datatset.classes, pred)\n",
        "sns.heatmap(cm, annot=True);"
      ]
    },
    {
      "cell_type": "code",
      "execution_count": null,
      "metadata": {
        "colab": {
          "base_uri": "https://localhost:8080/"
        },
        "id": "e2TSljdej81S",
        "outputId": "bccb3aea-493c-4de2-d348-094d87446e14"
      },
      "outputs": [
        {
          "name": "stdout",
          "output_type": "stream",
          "text": [
            "              precision    recall  f1-score   support\n",
            "\n",
            "           0       1.00      1.00      1.00       100\n",
            "           1       1.00      1.00      1.00       100\n",
            "           2       1.00      1.00      1.00       100\n",
            "           3       0.76      0.93      0.83       100\n",
            "           4       0.91      0.70      0.79       100\n",
            "\n",
            "    accuracy                           0.93       500\n",
            "   macro avg       0.93      0.93      0.93       500\n",
            "weighted avg       0.93      0.93      0.93       500\n",
            "\n"
          ]
        }
      ],
      "source": [
        "print(classification_report(test_datatset.classes, pred))"
      ]
    },
    {
      "cell_type": "code",
      "execution_count": null,
      "metadata": {
        "id": "jzbwiv0ikEVG"
      },
      "outputs": [],
      "source": [
        "network.save('network.h5')"
      ]
    },
    {
      "cell_type": "code",
      "execution_count": null,
      "metadata": {
        "id": "mTxEZdsQtlC4"
      },
      "outputs": [],
      "source": [
        "net = load_model('/content/network.h5')"
      ]
    },
    {
      "cell_type": "code",
      "execution_count": null,
      "metadata": {
        "colab": {
          "base_uri": "https://localhost:8080/"
        },
        "id": "JgEg6VxztpAx",
        "outputId": "faabc63a-f9f0-476d-fca0-1c7a221bb878"
      },
      "outputs": [
        {
          "name": "stdout",
          "output_type": "stream",
          "text": [
            "500/500 [==============================] - 61s 121ms/step - loss: 0.1696 - accuracy: 0.9360\n"
          ]
        },
        {
          "data": {
            "text/plain": [
              "[0.16959163546562195, 0.9359999895095825]"
            ]
          },
          "execution_count": 29,
          "metadata": {},
          "output_type": "execute_result"
        }
      ],
      "source": [
        "net.evaluate(test_datatset)"
      ]
    },
    {
      "cell_type": "code",
      "execution_count": null,
      "metadata": {
        "colab": {
          "base_uri": "https://localhost:8080/",
          "height": 269
        },
        "id": "6wbroQ7EvUvp",
        "outputId": "611c76b8-d149-4571-caee-1ae0c095c9ca"
      },
      "outputs": [
        {
          "data": {
            "image/png": "[encoded data removed]",
            "text/plain": [
              "<Figure size 432x288 with 2 Axes>"
            ]
          },
          "metadata": {},
          "output_type": "display_data"
        }
      ],
      "source": [
        "pre = net.predict(test_datatset)\n",
        "pre = np.argmax(pre, axis=1)\n",
        "cm = confusion_matrix(test_datatset.classes, pre)\n",
        "sns.heatmap(cm, annot=True);"
      ]
    },
    {
      "cell_type": "code",
      "execution_count": null,
      "metadata": {
        "colab": {
          "base_uri": "https://localhost:8080/"
        },
        "id": "0c6L1deT_TAY",
        "outputId": "9d982ba2-b661-4f58-82c9-b0a530153fc9"
      },
      "outputs": [
        {
          "name": "stdout",
          "output_type": "stream",
          "text": [
            "              precision    recall  f1-score   support\n",
            "\n",
            "           0       1.00      1.00      1.00       100\n",
            "           1       1.00      1.00      1.00       100\n",
            "           2       1.00      1.00      1.00       100\n",
            "           3       0.73      0.99      0.84       100\n",
            "           4       0.98      0.64      0.78       100\n",
            "\n",
            "    accuracy                           0.93       500\n",
            "   macro avg       0.94      0.93      0.92       500\n",
            "weighted avg       0.94      0.93      0.92       500\n",
            "\n"
          ]
        }
      ],
      "source": [
        "print(classification_report(test_datatset.classes, pred))"
      ]
    }
  ],
  "metadata": {
    "colab": {
      "provenance": [],
      "authorship_tag": "ABX9TyMEdAsNRN8UsKfRBpV5UkrA",
      "include_colab_link": true
    },
    "kernelspec": {
      "display_name": "Python 3",
      "name": "python3"
    },
    "language_info": {
      "name": "python"
    }
  },
  "nbformat": 4,
  "nbformat_minor": 0
}